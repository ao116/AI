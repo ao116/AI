{
 "cells": [
  {
   "cell_type": "code",
   "execution_count": 408,
   "id": "5b47c739",
   "metadata": {},
   "outputs": [],
   "source": [
    "import numpy as np\n",
    "import pandas as pd\n",
    "from sklearn import datasets\n",
    "import random\n",
    "from sklearn.metrics import pairwise_distances\n",
    "iris = datasets.load_iris()"
   ]
  },
  {
   "cell_type": "code",
   "execution_count": 384,
   "id": "cb927fce",
   "metadata": {},
   "outputs": [],
   "source": [
    "data = pd.DataFrame(data=iris.data, columns=iris.feature_names)\n",
    "data['label'] = iris.target"
   ]
  },
  {
   "cell_type": "code",
   "execution_count": 385,
   "id": "b95584d0",
   "metadata": {},
   "outputs": [
    {
     "data": {
      "text/html": [
       "<div>\n",
       "<style scoped>\n",
       "    .dataframe tbody tr th:only-of-type {\n",
       "        vertical-align: middle;\n",
       "    }\n",
       "\n",
       "    .dataframe tbody tr th {\n",
       "        vertical-align: top;\n",
       "    }\n",
       "\n",
       "    .dataframe thead th {\n",
       "        text-align: right;\n",
       "    }\n",
       "</style>\n",
       "<table border=\"1\" class=\"dataframe\">\n",
       "  <thead>\n",
       "    <tr style=\"text-align: right;\">\n",
       "      <th></th>\n",
       "      <th>sepal length (cm)</th>\n",
       "      <th>sepal width (cm)</th>\n",
       "      <th>petal length (cm)</th>\n",
       "      <th>petal width (cm)</th>\n",
       "      <th>label</th>\n",
       "    </tr>\n",
       "  </thead>\n",
       "  <tbody>\n",
       "    <tr>\n",
       "      <th>0</th>\n",
       "      <td>5.1</td>\n",
       "      <td>3.5</td>\n",
       "      <td>1.4</td>\n",
       "      <td>0.2</td>\n",
       "      <td>0</td>\n",
       "    </tr>\n",
       "    <tr>\n",
       "      <th>1</th>\n",
       "      <td>4.9</td>\n",
       "      <td>3.0</td>\n",
       "      <td>1.4</td>\n",
       "      <td>0.2</td>\n",
       "      <td>0</td>\n",
       "    </tr>\n",
       "    <tr>\n",
       "      <th>2</th>\n",
       "      <td>4.7</td>\n",
       "      <td>3.2</td>\n",
       "      <td>1.3</td>\n",
       "      <td>0.2</td>\n",
       "      <td>0</td>\n",
       "    </tr>\n",
       "    <tr>\n",
       "      <th>3</th>\n",
       "      <td>4.6</td>\n",
       "      <td>3.1</td>\n",
       "      <td>1.5</td>\n",
       "      <td>0.2</td>\n",
       "      <td>0</td>\n",
       "    </tr>\n",
       "    <tr>\n",
       "      <th>4</th>\n",
       "      <td>5.0</td>\n",
       "      <td>3.6</td>\n",
       "      <td>1.4</td>\n",
       "      <td>0.2</td>\n",
       "      <td>0</td>\n",
       "    </tr>\n",
       "    <tr>\n",
       "      <th>...</th>\n",
       "      <td>...</td>\n",
       "      <td>...</td>\n",
       "      <td>...</td>\n",
       "      <td>...</td>\n",
       "      <td>...</td>\n",
       "    </tr>\n",
       "    <tr>\n",
       "      <th>145</th>\n",
       "      <td>6.7</td>\n",
       "      <td>3.0</td>\n",
       "      <td>5.2</td>\n",
       "      <td>2.3</td>\n",
       "      <td>2</td>\n",
       "    </tr>\n",
       "    <tr>\n",
       "      <th>146</th>\n",
       "      <td>6.3</td>\n",
       "      <td>2.5</td>\n",
       "      <td>5.0</td>\n",
       "      <td>1.9</td>\n",
       "      <td>2</td>\n",
       "    </tr>\n",
       "    <tr>\n",
       "      <th>147</th>\n",
       "      <td>6.5</td>\n",
       "      <td>3.0</td>\n",
       "      <td>5.2</td>\n",
       "      <td>2.0</td>\n",
       "      <td>2</td>\n",
       "    </tr>\n",
       "    <tr>\n",
       "      <th>148</th>\n",
       "      <td>6.2</td>\n",
       "      <td>3.4</td>\n",
       "      <td>5.4</td>\n",
       "      <td>2.3</td>\n",
       "      <td>2</td>\n",
       "    </tr>\n",
       "    <tr>\n",
       "      <th>149</th>\n",
       "      <td>5.9</td>\n",
       "      <td>3.0</td>\n",
       "      <td>5.1</td>\n",
       "      <td>1.8</td>\n",
       "      <td>2</td>\n",
       "    </tr>\n",
       "  </tbody>\n",
       "</table>\n",
       "<p>150 rows × 5 columns</p>\n",
       "</div>"
      ],
      "text/plain": [
       "     sepal length (cm)  sepal width (cm)  petal length (cm)  petal width (cm)  \\\n",
       "0                  5.1               3.5                1.4               0.2   \n",
       "1                  4.9               3.0                1.4               0.2   \n",
       "2                  4.7               3.2                1.3               0.2   \n",
       "3                  4.6               3.1                1.5               0.2   \n",
       "4                  5.0               3.6                1.4               0.2   \n",
       "..                 ...               ...                ...               ...   \n",
       "145                6.7               3.0                5.2               2.3   \n",
       "146                6.3               2.5                5.0               1.9   \n",
       "147                6.5               3.0                5.2               2.0   \n",
       "148                6.2               3.4                5.4               2.3   \n",
       "149                5.9               3.0                5.1               1.8   \n",
       "\n",
       "     label  \n",
       "0        0  \n",
       "1        0  \n",
       "2        0  \n",
       "3        0  \n",
       "4        0  \n",
       "..     ...  \n",
       "145      2  \n",
       "146      2  \n",
       "147      2  \n",
       "148      2  \n",
       "149      2  \n",
       "\n",
       "[150 rows x 5 columns]"
      ]
     },
     "execution_count": 385,
     "metadata": {},
     "output_type": "execute_result"
    }
   ],
   "source": [
    "data"
   ]
  },
  {
   "cell_type": "code",
   "execution_count": 386,
   "id": "e0d9af75",
   "metadata": {},
   "outputs": [
    {
     "data": {
      "text/plain": [
       "0      0\n",
       "1      0\n",
       "2      0\n",
       "3      0\n",
       "4      0\n",
       "      ..\n",
       "145    2\n",
       "146    2\n",
       "147    2\n",
       "148    2\n",
       "149    2\n",
       "Name: label, Length: 150, dtype: int64"
      ]
     },
     "execution_count": 386,
     "metadata": {},
     "output_type": "execute_result"
    }
   ],
   "source": [
    "mainData = data.drop([\"label\"], axis=1).values\n",
    "label = data[\"label\"]\n",
    "label"
   ]
  },
  {
   "cell_type": "code",
   "execution_count": 387,
   "id": "a3dd7d44",
   "metadata": {},
   "outputs": [
    {
     "data": {
      "text/plain": [
       "array([[5.1, 3.5, 1.4, 0.2],\n",
       "       [4.9, 3. , 1.4, 0.2],\n",
       "       [4.7, 3.2, 1.3, 0.2],\n",
       "       [4.6, 3.1, 1.5, 0.2],\n",
       "       [5. , 3.6, 1.4, 0.2],\n",
       "       [5.4, 3.9, 1.7, 0.4],\n",
       "       [4.6, 3.4, 1.4, 0.3],\n",
       "       [5. , 3.4, 1.5, 0.2],\n",
       "       [4.4, 2.9, 1.4, 0.2],\n",
       "       [4.9, 3.1, 1.5, 0.1],\n",
       "       [5.4, 3.7, 1.5, 0.2],\n",
       "       [4.8, 3.4, 1.6, 0.2],\n",
       "       [4.8, 3. , 1.4, 0.1],\n",
       "       [4.3, 3. , 1.1, 0.1],\n",
       "       [5.8, 4. , 1.2, 0.2],\n",
       "       [5.7, 4.4, 1.5, 0.4],\n",
       "       [5.4, 3.9, 1.3, 0.4],\n",
       "       [5.1, 3.5, 1.4, 0.3],\n",
       "       [5.7, 3.8, 1.7, 0.3],\n",
       "       [5.1, 3.8, 1.5, 0.3],\n",
       "       [5.4, 3.4, 1.7, 0.2],\n",
       "       [5.1, 3.7, 1.5, 0.4],\n",
       "       [4.6, 3.6, 1. , 0.2],\n",
       "       [5.1, 3.3, 1.7, 0.5],\n",
       "       [4.8, 3.4, 1.9, 0.2],\n",
       "       [5. , 3. , 1.6, 0.2],\n",
       "       [5. , 3.4, 1.6, 0.4],\n",
       "       [5.2, 3.5, 1.5, 0.2],\n",
       "       [5.2, 3.4, 1.4, 0.2],\n",
       "       [4.7, 3.2, 1.6, 0.2],\n",
       "       [4.8, 3.1, 1.6, 0.2],\n",
       "       [5.4, 3.4, 1.5, 0.4],\n",
       "       [5.2, 4.1, 1.5, 0.1],\n",
       "       [5.5, 4.2, 1.4, 0.2],\n",
       "       [4.9, 3.1, 1.5, 0.2],\n",
       "       [5. , 3.2, 1.2, 0.2],\n",
       "       [5.5, 3.5, 1.3, 0.2],\n",
       "       [4.9, 3.6, 1.4, 0.1],\n",
       "       [4.4, 3. , 1.3, 0.2],\n",
       "       [5.1, 3.4, 1.5, 0.2],\n",
       "       [5. , 3.5, 1.3, 0.3],\n",
       "       [4.5, 2.3, 1.3, 0.3],\n",
       "       [4.4, 3.2, 1.3, 0.2],\n",
       "       [5. , 3.5, 1.6, 0.6],\n",
       "       [5.1, 3.8, 1.9, 0.4],\n",
       "       [4.8, 3. , 1.4, 0.3],\n",
       "       [5.1, 3.8, 1.6, 0.2],\n",
       "       [4.6, 3.2, 1.4, 0.2],\n",
       "       [5.3, 3.7, 1.5, 0.2],\n",
       "       [5. , 3.3, 1.4, 0.2],\n",
       "       [7. , 3.2, 4.7, 1.4],\n",
       "       [6.4, 3.2, 4.5, 1.5],\n",
       "       [6.9, 3.1, 4.9, 1.5],\n",
       "       [5.5, 2.3, 4. , 1.3],\n",
       "       [6.5, 2.8, 4.6, 1.5],\n",
       "       [5.7, 2.8, 4.5, 1.3],\n",
       "       [6.3, 3.3, 4.7, 1.6],\n",
       "       [4.9, 2.4, 3.3, 1. ],\n",
       "       [6.6, 2.9, 4.6, 1.3],\n",
       "       [5.2, 2.7, 3.9, 1.4],\n",
       "       [5. , 2. , 3.5, 1. ],\n",
       "       [5.9, 3. , 4.2, 1.5],\n",
       "       [6. , 2.2, 4. , 1. ],\n",
       "       [6.1, 2.9, 4.7, 1.4],\n",
       "       [5.6, 2.9, 3.6, 1.3],\n",
       "       [6.7, 3.1, 4.4, 1.4],\n",
       "       [5.6, 3. , 4.5, 1.5],\n",
       "       [5.8, 2.7, 4.1, 1. ],\n",
       "       [6.2, 2.2, 4.5, 1.5],\n",
       "       [5.6, 2.5, 3.9, 1.1],\n",
       "       [5.9, 3.2, 4.8, 1.8],\n",
       "       [6.1, 2.8, 4. , 1.3],\n",
       "       [6.3, 2.5, 4.9, 1.5],\n",
       "       [6.1, 2.8, 4.7, 1.2],\n",
       "       [6.4, 2.9, 4.3, 1.3],\n",
       "       [6.6, 3. , 4.4, 1.4],\n",
       "       [6.8, 2.8, 4.8, 1.4],\n",
       "       [6.7, 3. , 5. , 1.7],\n",
       "       [6. , 2.9, 4.5, 1.5],\n",
       "       [5.7, 2.6, 3.5, 1. ],\n",
       "       [5.5, 2.4, 3.8, 1.1],\n",
       "       [5.5, 2.4, 3.7, 1. ],\n",
       "       [5.8, 2.7, 3.9, 1.2],\n",
       "       [6. , 2.7, 5.1, 1.6],\n",
       "       [5.4, 3. , 4.5, 1.5],\n",
       "       [6. , 3.4, 4.5, 1.6],\n",
       "       [6.7, 3.1, 4.7, 1.5],\n",
       "       [6.3, 2.3, 4.4, 1.3],\n",
       "       [5.6, 3. , 4.1, 1.3],\n",
       "       [5.5, 2.5, 4. , 1.3],\n",
       "       [5.5, 2.6, 4.4, 1.2],\n",
       "       [6.1, 3. , 4.6, 1.4],\n",
       "       [5.8, 2.6, 4. , 1.2],\n",
       "       [5. , 2.3, 3.3, 1. ],\n",
       "       [5.6, 2.7, 4.2, 1.3],\n",
       "       [5.7, 3. , 4.2, 1.2],\n",
       "       [5.7, 2.9, 4.2, 1.3],\n",
       "       [6.2, 2.9, 4.3, 1.3],\n",
       "       [5.1, 2.5, 3. , 1.1],\n",
       "       [5.7, 2.8, 4.1, 1.3],\n",
       "       [6.3, 3.3, 6. , 2.5],\n",
       "       [5.8, 2.7, 5.1, 1.9],\n",
       "       [7.1, 3. , 5.9, 2.1],\n",
       "       [6.3, 2.9, 5.6, 1.8],\n",
       "       [6.5, 3. , 5.8, 2.2],\n",
       "       [7.6, 3. , 6.6, 2.1],\n",
       "       [4.9, 2.5, 4.5, 1.7],\n",
       "       [7.3, 2.9, 6.3, 1.8],\n",
       "       [6.7, 2.5, 5.8, 1.8],\n",
       "       [7.2, 3.6, 6.1, 2.5],\n",
       "       [6.5, 3.2, 5.1, 2. ],\n",
       "       [6.4, 2.7, 5.3, 1.9],\n",
       "       [6.8, 3. , 5.5, 2.1],\n",
       "       [5.7, 2.5, 5. , 2. ],\n",
       "       [5.8, 2.8, 5.1, 2.4],\n",
       "       [6.4, 3.2, 5.3, 2.3],\n",
       "       [6.5, 3. , 5.5, 1.8],\n",
       "       [7.7, 3.8, 6.7, 2.2],\n",
       "       [7.7, 2.6, 6.9, 2.3],\n",
       "       [6. , 2.2, 5. , 1.5],\n",
       "       [6.9, 3.2, 5.7, 2.3],\n",
       "       [5.6, 2.8, 4.9, 2. ],\n",
       "       [7.7, 2.8, 6.7, 2. ],\n",
       "       [6.3, 2.7, 4.9, 1.8],\n",
       "       [6.7, 3.3, 5.7, 2.1],\n",
       "       [7.2, 3.2, 6. , 1.8],\n",
       "       [6.2, 2.8, 4.8, 1.8],\n",
       "       [6.1, 3. , 4.9, 1.8],\n",
       "       [6.4, 2.8, 5.6, 2.1],\n",
       "       [7.2, 3. , 5.8, 1.6],\n",
       "       [7.4, 2.8, 6.1, 1.9],\n",
       "       [7.9, 3.8, 6.4, 2. ],\n",
       "       [6.4, 2.8, 5.6, 2.2],\n",
       "       [6.3, 2.8, 5.1, 1.5],\n",
       "       [6.1, 2.6, 5.6, 1.4],\n",
       "       [7.7, 3. , 6.1, 2.3],\n",
       "       [6.3, 3.4, 5.6, 2.4],\n",
       "       [6.4, 3.1, 5.5, 1.8],\n",
       "       [6. , 3. , 4.8, 1.8],\n",
       "       [6.9, 3.1, 5.4, 2.1],\n",
       "       [6.7, 3.1, 5.6, 2.4],\n",
       "       [6.9, 3.1, 5.1, 2.3],\n",
       "       [5.8, 2.7, 5.1, 1.9],\n",
       "       [6.8, 3.2, 5.9, 2.3],\n",
       "       [6.7, 3.3, 5.7, 2.5],\n",
       "       [6.7, 3. , 5.2, 2.3],\n",
       "       [6.3, 2.5, 5. , 1.9],\n",
       "       [6.5, 3. , 5.2, 2. ],\n",
       "       [6.2, 3.4, 5.4, 2.3],\n",
       "       [5.9, 3. , 5.1, 1.8]])"
      ]
     },
     "execution_count": 387,
     "metadata": {},
     "output_type": "execute_result"
    }
   ],
   "source": [
    "mainData"
   ]
  },
  {
   "cell_type": "markdown",
   "id": "d19cfc47",
   "metadata": {},
   "source": [
    "so our chromosomes should have 150 cells (we ignore the last cell to tell us how many clusters we have becuase we recognize the number of clusters later)"
   ]
  },
  {
   "cell_type": "code",
   "execution_count": 388,
   "id": "2c246c41",
   "metadata": {},
   "outputs": [
    {
     "data": {
      "text/html": [
       "<div>\n",
       "<style scoped>\n",
       "    .dataframe tbody tr th:only-of-type {\n",
       "        vertical-align: middle;\n",
       "    }\n",
       "\n",
       "    .dataframe tbody tr th {\n",
       "        vertical-align: top;\n",
       "    }\n",
       "\n",
       "    .dataframe thead th {\n",
       "        text-align: right;\n",
       "    }\n",
       "</style>\n",
       "<table border=\"1\" class=\"dataframe\">\n",
       "  <thead>\n",
       "    <tr style=\"text-align: right;\">\n",
       "      <th></th>\n",
       "      <th>sepal length (cm)</th>\n",
       "      <th>sepal width (cm)</th>\n",
       "      <th>petal length (cm)</th>\n",
       "      <th>petal width (cm)</th>\n",
       "      <th>label</th>\n",
       "    </tr>\n",
       "  </thead>\n",
       "  <tbody>\n",
       "    <tr>\n",
       "      <th>0</th>\n",
       "      <td>5.1</td>\n",
       "      <td>3.5</td>\n",
       "      <td>1.4</td>\n",
       "      <td>0.2</td>\n",
       "      <td>0</td>\n",
       "    </tr>\n",
       "    <tr>\n",
       "      <th>1</th>\n",
       "      <td>4.9</td>\n",
       "      <td>3.0</td>\n",
       "      <td>1.4</td>\n",
       "      <td>0.2</td>\n",
       "      <td>0</td>\n",
       "    </tr>\n",
       "    <tr>\n",
       "      <th>2</th>\n",
       "      <td>4.7</td>\n",
       "      <td>3.2</td>\n",
       "      <td>1.3</td>\n",
       "      <td>0.2</td>\n",
       "      <td>0</td>\n",
       "    </tr>\n",
       "    <tr>\n",
       "      <th>3</th>\n",
       "      <td>4.6</td>\n",
       "      <td>3.1</td>\n",
       "      <td>1.5</td>\n",
       "      <td>0.2</td>\n",
       "      <td>0</td>\n",
       "    </tr>\n",
       "    <tr>\n",
       "      <th>4</th>\n",
       "      <td>5.0</td>\n",
       "      <td>3.6</td>\n",
       "      <td>1.4</td>\n",
       "      <td>0.2</td>\n",
       "      <td>0</td>\n",
       "    </tr>\n",
       "  </tbody>\n",
       "</table>\n",
       "</div>"
      ],
      "text/plain": [
       "   sepal length (cm)  sepal width (cm)  petal length (cm)  petal width (cm)  \\\n",
       "0                5.1               3.5                1.4               0.2   \n",
       "1                4.9               3.0                1.4               0.2   \n",
       "2                4.7               3.2                1.3               0.2   \n",
       "3                4.6               3.1                1.5               0.2   \n",
       "4                5.0               3.6                1.4               0.2   \n",
       "\n",
       "   label  \n",
       "0      0  \n",
       "1      0  \n",
       "2      0  \n",
       "3      0  \n",
       "4      0  "
      ]
     },
     "execution_count": 388,
     "metadata": {},
     "output_type": "execute_result"
    }
   ],
   "source": [
    "data.head()"
   ]
  },
  {
   "cell_type": "code",
   "execution_count": 389,
   "id": "62fcfa93",
   "metadata": {},
   "outputs": [
    {
     "data": {
      "text/plain": [
       "sepal length (cm)    0\n",
       "sepal width (cm)     0\n",
       "petal length (cm)    0\n",
       "petal width (cm)     0\n",
       "label                0\n",
       "dtype: int64"
      ]
     },
     "execution_count": 389,
     "metadata": {},
     "output_type": "execute_result"
    }
   ],
   "source": [
    "data.isna().sum()\n"
   ]
  },
  {
   "cell_type": "code",
   "execution_count": 390,
   "id": "465543c8",
   "metadata": {},
   "outputs": [
    {
     "data": {
      "text/html": [
       "<div>\n",
       "<style scoped>\n",
       "    .dataframe tbody tr th:only-of-type {\n",
       "        vertical-align: middle;\n",
       "    }\n",
       "\n",
       "    .dataframe tbody tr th {\n",
       "        vertical-align: top;\n",
       "    }\n",
       "\n",
       "    .dataframe thead th {\n",
       "        text-align: right;\n",
       "    }\n",
       "</style>\n",
       "<table border=\"1\" class=\"dataframe\">\n",
       "  <thead>\n",
       "    <tr style=\"text-align: right;\">\n",
       "      <th></th>\n",
       "      <th>sepal length (cm)</th>\n",
       "      <th>sepal width (cm)</th>\n",
       "      <th>petal length (cm)</th>\n",
       "      <th>petal width (cm)</th>\n",
       "      <th>label</th>\n",
       "    </tr>\n",
       "  </thead>\n",
       "  <tbody>\n",
       "    <tr>\n",
       "      <th>count</th>\n",
       "      <td>150.000000</td>\n",
       "      <td>150.000000</td>\n",
       "      <td>150.000000</td>\n",
       "      <td>150.000000</td>\n",
       "      <td>150.000000</td>\n",
       "    </tr>\n",
       "    <tr>\n",
       "      <th>mean</th>\n",
       "      <td>5.843333</td>\n",
       "      <td>3.057333</td>\n",
       "      <td>3.758000</td>\n",
       "      <td>1.199333</td>\n",
       "      <td>1.000000</td>\n",
       "    </tr>\n",
       "    <tr>\n",
       "      <th>std</th>\n",
       "      <td>0.828066</td>\n",
       "      <td>0.435866</td>\n",
       "      <td>1.765298</td>\n",
       "      <td>0.762238</td>\n",
       "      <td>0.819232</td>\n",
       "    </tr>\n",
       "    <tr>\n",
       "      <th>min</th>\n",
       "      <td>4.300000</td>\n",
       "      <td>2.000000</td>\n",
       "      <td>1.000000</td>\n",
       "      <td>0.100000</td>\n",
       "      <td>0.000000</td>\n",
       "    </tr>\n",
       "    <tr>\n",
       "      <th>25%</th>\n",
       "      <td>5.100000</td>\n",
       "      <td>2.800000</td>\n",
       "      <td>1.600000</td>\n",
       "      <td>0.300000</td>\n",
       "      <td>0.000000</td>\n",
       "    </tr>\n",
       "    <tr>\n",
       "      <th>50%</th>\n",
       "      <td>5.800000</td>\n",
       "      <td>3.000000</td>\n",
       "      <td>4.350000</td>\n",
       "      <td>1.300000</td>\n",
       "      <td>1.000000</td>\n",
       "    </tr>\n",
       "    <tr>\n",
       "      <th>75%</th>\n",
       "      <td>6.400000</td>\n",
       "      <td>3.300000</td>\n",
       "      <td>5.100000</td>\n",
       "      <td>1.800000</td>\n",
       "      <td>2.000000</td>\n",
       "    </tr>\n",
       "    <tr>\n",
       "      <th>max</th>\n",
       "      <td>7.900000</td>\n",
       "      <td>4.400000</td>\n",
       "      <td>6.900000</td>\n",
       "      <td>2.500000</td>\n",
       "      <td>2.000000</td>\n",
       "    </tr>\n",
       "  </tbody>\n",
       "</table>\n",
       "</div>"
      ],
      "text/plain": [
       "       sepal length (cm)  sepal width (cm)  petal length (cm)  \\\n",
       "count         150.000000        150.000000         150.000000   \n",
       "mean            5.843333          3.057333           3.758000   \n",
       "std             0.828066          0.435866           1.765298   \n",
       "min             4.300000          2.000000           1.000000   \n",
       "25%             5.100000          2.800000           1.600000   \n",
       "50%             5.800000          3.000000           4.350000   \n",
       "75%             6.400000          3.300000           5.100000   \n",
       "max             7.900000          4.400000           6.900000   \n",
       "\n",
       "       petal width (cm)       label  \n",
       "count        150.000000  150.000000  \n",
       "mean           1.199333    1.000000  \n",
       "std            0.762238    0.819232  \n",
       "min            0.100000    0.000000  \n",
       "25%            0.300000    0.000000  \n",
       "50%            1.300000    1.000000  \n",
       "75%            1.800000    2.000000  \n",
       "max            2.500000    2.000000  "
      ]
     },
     "execution_count": 390,
     "metadata": {},
     "output_type": "execute_result"
    }
   ],
   "source": [
    "data.describe()"
   ]
  },
  {
   "cell_type": "code",
   "execution_count": 391,
   "id": "66d585fc",
   "metadata": {},
   "outputs": [
    {
     "data": {
      "text/plain": [
       "array([0, 1, 2])"
      ]
     },
     "execution_count": 391,
     "metadata": {},
     "output_type": "execute_result"
    }
   ],
   "source": [
    "data[\"label\"].unique()\n"
   ]
  },
  {
   "cell_type": "markdown",
   "id": "a69d2393",
   "metadata": {},
   "source": [
    "finding the number of clusters we should define and  its 3"
   ]
  },
  {
   "cell_type": "code",
   "execution_count": 392,
   "id": "4604fbf0",
   "metadata": {},
   "outputs": [],
   "source": [
    "def objective_function(chromosome, data, num_clusters):\n",
    "    clusters = [np.where(chromosome == i)[0] for i in range(0, num_clusters)]\n",
    "    centroids = [np.mean(data[cluster], axis=0) for cluster in clusters]\n",
    "    score = 0\n",
    "    for i, cluster in enumerate(clusters):\n",
    "        if len(cluster) > 0:\n",
    "            distances = pairwise_distances(data[cluster], [centroids[i]], metric='euclidean')\n",
    "            score += np.sum(distances ** 2)\n",
    "\n",
    "    return score"
   ]
  },
  {
   "cell_type": "code",
   "execution_count": 393,
   "id": "febe0bb9",
   "metadata": {},
   "outputs": [],
   "source": [
    "def initialize_population(pop_size, num_points, num_clusters):\n",
    "    population = []\n",
    "    for _ in range(pop_size):\n",
    "        chromosome = np.random.randint(0 , num_clusters , num_points)\n",
    "        z=objective_function(chromosome,mainData,3)\n",
    "        while(z>630):\n",
    "            chromosome = np.random.randint(0 , num_clusters , num_points)\n",
    "            z=objective_function(chromosome,mainData,3)    \n",
    "        population.append(chromosome)\n",
    "    return population"
   ]
  },
  {
   "cell_type": "code",
   "execution_count": 395,
   "id": "142b27fc",
   "metadata": {},
   "outputs": [],
   "source": [
    "population=initialize_population(10,150,3)"
   ]
  },
  {
   "cell_type": "code",
   "execution_count": 396,
   "id": "3f5b4e86",
   "metadata": {},
   "outputs": [
    {
     "data": {
      "text/plain": [
       "[array([1, 1, 2, 0, 2, 0, 2, 2, 0, 1, 2, 0, 0, 0, 1, 2, 0, 2, 1, 0, 2, 2,\n",
       "        0, 2, 2, 0, 2, 2, 0, 0, 2, 2, 2, 2, 2, 0, 1, 0, 2, 2, 0, 2, 1, 2,\n",
       "        2, 2, 0, 0, 0, 0, 2, 0, 1, 0, 1, 2, 0, 0, 0, 2, 0, 0, 1, 1, 1, 2,\n",
       "        2, 2, 2, 1, 2, 1, 2, 0, 1, 2, 1, 1, 1, 2, 1, 2, 2, 1, 2, 1, 1, 0,\n",
       "        2, 0, 2, 1, 2, 2, 0, 2, 0, 2, 0, 0, 1, 0, 2, 0, 0, 1, 0, 2, 0, 2,\n",
       "        1, 1, 2, 0, 0, 1, 1, 2, 1, 1, 1, 0, 1, 1, 2, 2, 1, 1, 1, 2, 1, 1,\n",
       "        1, 1, 0, 0, 2, 0, 1, 2, 2, 1, 2, 1, 1, 2, 0, 2, 2, 0]),\n",
       " array([0, 0, 1, 2, 2, 1, 1, 1, 1, 1, 1, 1, 1, 2, 0, 0, 1, 0, 0, 1, 1, 0,\n",
       "        2, 1, 1, 2, 2, 2, 1, 1, 2, 0, 2, 1, 2, 1, 0, 1, 1, 1, 1, 1, 1, 0,\n",
       "        0, 1, 2, 1, 2, 2, 2, 2, 0, 0, 1, 2, 0, 0, 0, 1, 1, 0, 1, 0, 2, 1,\n",
       "        0, 1, 1, 0, 2, 2, 0, 1, 0, 2, 2, 0, 1, 1, 1, 0, 1, 0, 0, 0, 2, 0,\n",
       "        1, 0, 1, 1, 0, 2, 1, 0, 1, 1, 1, 0, 0, 1, 0, 1, 2, 0, 0, 2, 2, 0,\n",
       "        2, 1, 1, 0, 0, 0, 0, 0, 0, 0, 0, 2, 1, 2, 2, 0, 0, 2, 0, 0, 0, 0,\n",
       "        1, 0, 2, 0, 0, 0, 2, 2, 0, 0, 0, 0, 1, 1, 0, 1, 0, 2]),\n",
       " array([0, 1, 2, 0, 0, 2, 0, 2, 2, 1, 0, 2, 0, 1, 1, 2, 2, 0, 0, 2, 2, 0,\n",
       "        2, 0, 2, 2, 2, 0, 0, 1, 2, 2, 2, 2, 2, 2, 0, 2, 0, 1, 0, 2, 2, 2,\n",
       "        0, 2, 2, 1, 1, 0, 2, 1, 2, 0, 1, 2, 1, 0, 1, 0, 1, 0, 2, 2, 0, 2,\n",
       "        0, 2, 0, 0, 0, 0, 2, 2, 0, 1, 1, 1, 2, 2, 2, 1, 2, 1, 0, 2, 0, 0,\n",
       "        1, 2, 1, 1, 0, 2, 1, 1, 1, 0, 2, 2, 0, 2, 1, 0, 2, 1, 2, 1, 1, 0,\n",
       "        1, 0, 0, 0, 0, 1, 0, 1, 1, 2, 1, 1, 2, 1, 0, 2, 2, 1, 1, 1, 1, 1,\n",
       "        1, 2, 2, 2, 1, 1, 2, 2, 2, 0, 2, 0, 1, 0, 0, 1, 1, 2]),\n",
       " array([0, 2, 0, 0, 1, 0, 0, 0, 0, 1, 0, 1, 1, 0, 1, 2, 0, 2, 2, 0, 1, 1,\n",
       "        0, 1, 0, 0, 1, 0, 1, 1, 1, 1, 0, 2, 2, 1, 0, 0, 2, 0, 0, 0, 0, 1,\n",
       "        1, 0, 0, 0, 0, 0, 2, 2, 1, 1, 0, 2, 2, 0, 2, 0, 0, 2, 0, 0, 1, 1,\n",
       "        0, 0, 2, 2, 0, 0, 1, 1, 2, 0, 2, 2, 2, 0, 0, 2, 2, 1, 1, 1, 0, 0,\n",
       "        1, 2, 1, 2, 1, 2, 0, 2, 1, 2, 2, 0, 2, 1, 1, 0, 2, 2, 2, 0, 2, 0,\n",
       "        1, 1, 1, 0, 1, 1, 1, 1, 0, 2, 1, 2, 2, 2, 1, 1, 2, 1, 0, 1, 2, 2,\n",
       "        2, 2, 2, 0, 0, 1, 0, 2, 2, 0, 2, 2, 2, 2, 1, 0, 1, 0]),\n",
       " array([1, 1, 2, 0, 2, 0, 2, 2, 2, 2, 0, 0, 2, 2, 0, 0, 0, 0, 0, 2, 2, 0,\n",
       "        2, 1, 0, 2, 2, 1, 0, 0, 0, 0, 1, 0, 2, 2, 2, 1, 2, 2, 2, 2, 0, 2,\n",
       "        2, 2, 2, 2, 0, 0, 1, 2, 0, 2, 1, 0, 0, 1, 2, 1, 1, 1, 1, 1, 2, 2,\n",
       "        1, 0, 1, 2, 2, 1, 2, 1, 0, 2, 1, 1, 1, 2, 0, 2, 2, 1, 2, 0, 0, 0,\n",
       "        0, 1, 0, 1, 1, 1, 2, 0, 2, 0, 0, 2, 1, 2, 0, 2, 1, 0, 1, 1, 0, 1,\n",
       "        1, 1, 1, 0, 1, 0, 0, 2, 0, 2, 1, 1, 0, 0, 1, 0, 1, 0, 1, 1, 1, 0,\n",
       "        0, 2, 2, 2, 2, 2, 2, 0, 1, 0, 0, 1, 1, 1, 2, 0, 0, 1]),\n",
       " array([0, 0, 2, 1, 1, 1, 2, 1, 2, 2, 1, 0, 1, 1, 2, 2, 2, 2, 2, 2, 1, 1,\n",
       "        1, 1, 1, 0, 2, 1, 1, 0, 2, 2, 0, 1, 2, 1, 0, 1, 0, 2, 2, 2, 2, 1,\n",
       "        1, 1, 1, 1, 2, 0, 0, 0, 0, 2, 1, 0, 1, 2, 2, 0, 2, 2, 1, 2, 1, 0,\n",
       "        2, 0, 2, 0, 0, 0, 1, 0, 2, 0, 1, 2, 2, 0, 1, 1, 1, 0, 0, 2, 2, 0,\n",
       "        0, 0, 0, 0, 2, 2, 0, 2, 2, 2, 0, 2, 2, 1, 1, 0, 0, 0, 0, 0, 0, 1,\n",
       "        0, 1, 1, 2, 2, 1, 0, 0, 0, 1, 0, 0, 0, 1, 2, 0, 2, 0, 2, 0, 0, 0,\n",
       "        0, 0, 2, 1, 0, 0, 1, 0, 1, 2, 1, 2, 1, 2, 1, 2, 0, 1]),\n",
       " array([2, 0, 0, 0, 0, 0, 0, 0, 1, 0, 1, 0, 2, 0, 0, 2, 2, 0, 0, 0, 0, 1,\n",
       "        0, 0, 1, 2, 0, 1, 0, 2, 2, 2, 1, 2, 0, 2, 0, 0, 1, 0, 0, 2, 1, 0,\n",
       "        0, 2, 0, 1, 2, 2, 2, 1, 2, 1, 2, 2, 1, 2, 1, 2, 1, 1, 0, 2, 0, 1,\n",
       "        2, 2, 1, 2, 2, 2, 1, 0, 0, 0, 1, 2, 0, 0, 0, 0, 2, 0, 0, 1, 2, 2,\n",
       "        0, 1, 1, 2, 1, 1, 1, 0, 0, 1, 0, 0, 2, 0, 0, 1, 1, 2, 1, 1, 1, 1,\n",
       "        2, 1, 1, 0, 0, 2, 2, 1, 1, 2, 2, 0, 1, 1, 2, 2, 2, 2, 0, 0, 1, 2,\n",
       "        2, 2, 1, 0, 2, 1, 1, 1, 1, 1, 2, 0, 0, 2, 2, 2, 0, 2]),\n",
       " array([0, 1, 1, 0, 0, 0, 1, 0, 1, 1, 2, 1, 2, 2, 1, 1, 2, 0, 0, 2, 1, 0,\n",
       "        0, 0, 0, 0, 0, 1, 0, 2, 0, 2, 0, 2, 1, 1, 1, 2, 1, 1, 1, 1, 1, 0,\n",
       "        0, 1, 1, 1, 1, 1, 2, 0, 0, 2, 1, 2, 1, 0, 0, 1, 0, 0, 2, 1, 2, 0,\n",
       "        1, 2, 2, 0, 2, 1, 2, 0, 1, 1, 2, 1, 0, 1, 1, 1, 1, 2, 0, 2, 0, 0,\n",
       "        0, 1, 1, 2, 2, 1, 0, 2, 2, 0, 1, 0, 0, 0, 1, 2, 0, 2, 1, 2, 2, 0,\n",
       "        2, 2, 1, 2, 0, 2, 2, 2, 2, 1, 2, 0, 1, 2, 2, 2, 0, 2, 1, 0, 2, 0,\n",
       "        0, 0, 2, 0, 0, 1, 0, 2, 0, 0, 0, 2, 1, 2, 0, 0, 2, 2]),\n",
       " array([0, 2, 2, 0, 1, 2, 2, 0, 1, 1, 1, 0, 0, 1, 0, 0, 1, 0, 0, 0, 2, 0,\n",
       "        0, 0, 1, 1, 0, 2, 0, 0, 0, 2, 1, 2, 2, 0, 0, 0, 0, 0, 0, 1, 2, 1,\n",
       "        0, 0, 1, 1, 1, 1, 2, 1, 2, 0, 2, 0, 1, 0, 2, 1, 0, 2, 0, 0, 1, 1,\n",
       "        1, 1, 2, 0, 0, 0, 2, 0, 1, 1, 0, 2, 0, 1, 0, 2, 0, 0, 0, 1, 0, 2,\n",
       "        0, 1, 0, 2, 1, 0, 0, 0, 0, 0, 0, 0, 1, 0, 1, 0, 2, 0, 1, 1, 0, 2,\n",
       "        0, 2, 1, 1, 2, 0, 2, 2, 2, 2, 2, 2, 2, 0, 0, 2, 1, 1, 0, 1, 1, 2,\n",
       "        2, 1, 0, 2, 2, 0, 0, 2, 2, 2, 2, 0, 2, 2, 1, 2, 2, 0]),\n",
       " array([1, 0, 2, 1, 1, 0, 0, 1, 0, 0, 2, 1, 2, 0, 0, 0, 0, 0, 2, 1, 0, 1,\n",
       "        1, 0, 0, 0, 0, 0, 2, 0, 2, 1, 2, 0, 0, 0, 0, 1, 1, 0, 0, 0, 0, 2,\n",
       "        0, 1, 1, 2, 2, 0, 1, 1, 2, 2, 1, 0, 2, 2, 2, 0, 0, 1, 0, 2, 2, 1,\n",
       "        1, 1, 1, 0, 1, 2, 2, 0, 1, 1, 0, 0, 2, 1, 0, 0, 1, 2, 1, 0, 1, 1,\n",
       "        2, 1, 0, 2, 0, 2, 2, 2, 1, 2, 1, 1, 0, 0, 1, 2, 1, 2, 0, 1, 0, 2,\n",
       "        2, 2, 1, 2, 1, 1, 1, 0, 2, 0, 1, 0, 1, 0, 2, 1, 2, 0, 1, 2, 2, 2,\n",
       "        0, 2, 1, 2, 0, 2, 1, 0, 2, 1, 1, 2, 2, 2, 0, 1, 1, 2])]"
      ]
     },
     "execution_count": 396,
     "metadata": {},
     "output_type": "execute_result"
    }
   ],
   "source": [
    "population"
   ]
  },
  {
   "cell_type": "code",
   "execution_count": 397,
   "id": "59466f53",
   "metadata": {},
   "outputs": [
    {
     "name": "stdout",
     "output_type": "stream",
     "text": [
      "620.9092791287976\n",
      "602.2878824702927\n",
      "626.791716641679\n",
      "623.716552795031\n",
      "617.1782704341967\n",
      "625.0218519803182\n",
      "624.3885708061\n",
      "617.532152777778\n",
      "628.7369423076916\n",
      "626.17995062224\n"
     ]
    }
   ],
   "source": [
    "score = []\n",
    "for chro in population:\n",
    "    entry=objective_function(chro,mainData,3)\n",
    "    score.append(entry)\n",
    "    print(objective_function(chro,mainData,3))"
   ]
  },
  {
   "cell_type": "code",
   "execution_count": 398,
   "id": "8ae54c3a",
   "metadata": {},
   "outputs": [
    {
     "data": {
      "text/plain": [
       "0"
      ]
     },
     "execution_count": 398,
     "metadata": {},
     "output_type": "execute_result"
    }
   ],
   "source": [
    "worstPoint=0\n",
    "worstPointValue=630\n",
    "def calculateWorst(score):\n",
    "    worstPoint=np.argmax(score)\n",
    "    worstPointValue=score[worstPoint]\n",
    "calculateWorst(score)\n",
    "worstPoint\n",
    "\n",
    "#population[worstPoint]    "
   ]
  },
  {
   "cell_type": "code",
   "execution_count": 399,
   "id": "d5fd2fb2",
   "metadata": {},
   "outputs": [],
   "source": [
    "def mutation(population,score,chromosome):\n",
    "    calculateWorst(score) \n",
    "    newChromosome=chromosome.copy()\n",
    "    cell=np.random.randint(0,150)\n",
    "    newChromosome[cell]=np.random.randint(0,3)\n",
    "    #while(newChromosome!=chromosome):\n",
    "    #   newChromosome[cell]=np.random.randint(0,3)\n",
    "    newScore=objective_function(newChromosome,mainData,3) \n",
    "    if(newScore<worstPointValue):\n",
    "        population[worstPoint]=newChromosome\n",
    "        score[worstPoint]=newScore\n",
    "        calculateWorst(score)    \n"
   ]
  },
  {
   "cell_type": "code",
   "execution_count": 400,
   "id": "83d7ee4f",
   "metadata": {},
   "outputs": [
    {
     "data": {
      "text/plain": [
       "0"
      ]
     },
     "execution_count": 400,
     "metadata": {},
     "output_type": "execute_result"
    }
   ],
   "source": [
    "crossover_point = np.random.randint(0,2)\n",
    "crossover_point"
   ]
  },
  {
   "cell_type": "code",
   "execution_count": 401,
   "id": "3572c1b0",
   "metadata": {},
   "outputs": [],
   "source": [
    "def crossover(population,score,mainData,chro1,chro2):\n",
    "    rand = np.random.randint(0,2)\n",
    "    calculateWorst(score)\n",
    "    if(rand==0):\n",
    "        crossover_point = np.random.randint(0, 150)\n",
    "        child1 = np.concatenate((chro1[:crossover_point], chro2[crossover_point:]))\n",
    "        child2 = np.concatenate((chro2[:crossover_point], chro1[crossover_point:]))\n",
    "        mutation(population,score,child1)\n",
    "        mutation(population,score,child2)\n",
    "        newScore1=objective_function(child1,mainData,3)\n",
    "        newScore2=objective_function(child2,mainData,3)\n",
    "        if(newScore1<worstPointValue):\n",
    "            population[worstPoint]=child1\n",
    "            score[worstPoint]=newScore1\n",
    "            calculateWorst(score)\n",
    "        if(newScore2<worstPointValue):\n",
    "            population[worstPoint]=child2\n",
    "            score[worstPoint]=newScore2\n",
    "            calculateWorst(score)\n",
    "    else:\n",
    "        child1 = np.concatenate((chro1[:30], chro2[30:60],chro1[60:90],chro2[90:120],chro1[120:150]))\n",
    "        child2 = np.concatenate((chro2[:30], chro1[30:60],chro2[60:90],chro1[90:120],chro2[120:150]))\n",
    "        mutation(population,score,child1)\n",
    "        mutation(population,score,child2)\n",
    "        newScore1=objective_function(child1,mainData,3)\n",
    "        newScore2=objective_function(child2,mainData,3)\n",
    "        if(newScore1<worstPointValue):\n",
    "            population[worstPoint]=child1\n",
    "            score[worstPoint]=newScore1\n",
    "            calculateWorst(score)\n",
    "        if(newScore2<worstPointValue):\n",
    "            population[worstPoint]=child2\n",
    "            score[worstPoint]=newScore2\n",
    "        calculateWorst(score)\n"
   ]
  },
  {
   "cell_type": "code",
   "execution_count": 402,
   "id": "9c671160",
   "metadata": {},
   "outputs": [],
   "source": [
    "def generic(mainData,iteration):\n",
    "    population=initialize_population(50,150,3)\n",
    "    score = []\n",
    "    for chro in population:\n",
    "        entry=objective_function(chro,mainData,3)\n",
    "        score.append(entry)\n",
    "    \"\"\"\n",
    "    for i in range(iteration):\n",
    "        #parent1 , parent2 = random.sample(population, 2)\n",
    "        crossover(mainData,parent1,parent2)\n",
    "    \"\"\"\n",
    "    b=population[1]\n",
    "    c=population[0]\n",
    "    crossover(population,score,mainData,b,c)\n",
    "    for i in range(iteration):\n",
    "        parent1 , parent2 = random.sample(population, 2)\n",
    "        crossover(population,score,mainData,parent1,parent2)\n",
    "\n",
    "    bestPoint=np.argmin(score)\n",
    "    population[bestPoint]\n",
    "    return population[bestPoint]\n",
    "\n",
    " "
   ]
  },
  {
   "cell_type": "code",
   "execution_count": 403,
   "id": "252a26b2",
   "metadata": {},
   "outputs": [],
   "source": [
    "sol=generic(mainData,100)"
   ]
  },
  {
   "cell_type": "code",
   "execution_count": 404,
   "id": "b156b915",
   "metadata": {},
   "outputs": [],
   "source": [
    "differences = sum(1 for a, b in zip(sol, label) if a != b)"
   ]
  },
  {
   "cell_type": "code",
   "execution_count": 405,
   "id": "e9b78d80",
   "metadata": {},
   "outputs": [
    {
     "data": {
      "text/plain": [
       "104"
      ]
     },
     "execution_count": 405,
     "metadata": {},
     "output_type": "execute_result"
    }
   ],
   "source": [
    "differences"
   ]
  },
  {
   "cell_type": "code",
   "execution_count": 407,
   "id": "564bb947",
   "metadata": {},
   "outputs": [
    {
     "data": {
      "text/plain": [
       "0.30666666666666664"
      ]
     },
     "execution_count": 407,
     "metadata": {},
     "output_type": "execute_result"
    }
   ],
   "source": [
    "1-differences/150"
   ]
  },
  {
   "cell_type": "code",
   "execution_count": null,
   "id": "012550cd",
   "metadata": {},
   "outputs": [],
   "source": []
  }
 ],
 "metadata": {
  "kernelspec": {
   "display_name": "Python 3 (ipykernel)",
   "language": "python",
   "name": "python3"
  },
  "language_info": {
   "codemirror_mode": {
    "name": "ipython",
    "version": 3
   },
   "file_extension": ".py",
   "mimetype": "text/x-python",
   "name": "python",
   "nbconvert_exporter": "python",
   "pygments_lexer": "ipython3",
   "version": "3.12.0"
  }
 },
 "nbformat": 4,
 "nbformat_minor": 5
}
